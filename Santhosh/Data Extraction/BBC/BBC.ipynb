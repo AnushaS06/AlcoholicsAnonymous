{
 "cells": [
  {
   "cell_type": "markdown",
   "metadata": {},
   "source": [
    "# Alcholic Anonymous News articles extraction from BBC Newspaper\n",
    "\n",
    "## Importing the necessary Libraries"
   ]
  },
  {
   "cell_type": "code",
   "execution_count": 1,
   "metadata": {},
   "outputs": [],
   "source": [
    "from selenium.webdriver.support import expected_conditions as ec # WebDriverWait in combination with ExpectedCondition\n",
    "from selenium.common.exceptions import TimeoutException # timeout exception\n",
    "from selenium.webdriver.support.ui import WebDriverWait # Waiting provides mostly locating an element\n",
    "from selenium.webdriver.chrome.options import Options # enables options in web browser\n",
    "from selenium.webdriver.common.by import By # Locating Elements\n",
    "from selenium import webdriver # web-based automation tool for Python\n",
    "from newspaper import Article # Article scraping & curation\n",
    "from bs4 import BeautifulSoup # Python library for pulling data out of HTML and XML files\n",
    "from requests import get # standard for making HTTP requests in Python\n",
    "import pandas as pd # library written for data manipulation and analysis\n",
    "import sys, time #  System-specific parameters and functions"
   ]
  },
  {
   "cell_type": "markdown",
   "metadata": {},
   "source": [
    "## Lists for Alcholic Anonymous News Articles extracted data"
   ]
  },
  {
   "cell_type": "code",
   "execution_count": 2,
   "metadata": {},
   "outputs": [],
   "source": [
    "headlines, descriptions, dates, authors, news, keywords, summaries, urls, image_urls = [], [], [], [], [], [], [], [], []"
   ]
  },
  {
   "cell_type": "markdown",
   "metadata": {},
   "source": [
    "## Scraping BBC Search results urls related to BBC Newspaper\n",
    "\n",
    "## Finding the total no.of.pages from Google Search Results and passing the value through the while loop"
   ]
  },
  {
   "cell_type": "code",
   "execution_count": 3,
   "metadata": {},
   "outputs": [
    {
     "name": "stdout",
     "output_type": "stream",
     "text": [
      "Wall time: 44.5 s\n"
     ]
    }
   ],
   "source": [
    "%%time\n",
    "options = Options()\n",
    "options.headless = True\n",
    "driver = webdriver.Chrome(options=options)\n",
    "driver.get('https://www.bbc.co.uk/search?q=ALCOHOLICS+ANONYMOUS&filter=news')\n",
    "wait = WebDriverWait(driver, 10)\n",
    "\n",
    "index, maxclicks = 0, 25\n",
    "\n",
    "while True:\n",
    "    index += 1\n",
    "    try:\n",
    "        if index <= maxclicks:\n",
    "            more_button = wait.until(ec.visibility_of_element_located((By.CLASS_NAME, \"more\"))).click()\n",
    "            time.sleep(1)\n",
    "    except TimeoutException:\n",
    "        break\n",
    "    sys.stdout.write('\\r' + str(index) + ' : ' + str(maxclicks) + '\\r')\n",
    "    sys.stdout.flush()\n",
    "    \n",
    "news_elems = driver.find_elements_by_class_name('rs_touch')\n",
    "for article in news_elems:\n",
    "    urls.append(article.get_attribute('href'))\n",
    "driver.quit()"
   ]
  },
  {
   "cell_type": "markdown",
   "metadata": {},
   "source": [
    "## To remove duplicates urls entries in the list by executing below line"
   ]
  },
  {
   "cell_type": "code",
   "execution_count": 4,
   "metadata": {},
   "outputs": [
    {
     "name": "stdout",
     "output_type": "stream",
     "text": [
      "243 <class 'list'>\n"
     ]
    }
   ],
   "source": [
    "urls = list(dict.fromkeys(urls))\n",
    "print(len(urls), type(urls))"
   ]
  },
  {
   "cell_type": "markdown",
   "metadata": {},
   "source": [
    "## Scraping the Articles details from BBC Newspaper with the help of Newspaper"
   ]
  },
  {
   "cell_type": "code",
   "execution_count": 5,
   "metadata": {},
   "outputs": [
    {
     "name": "stdout",
     "output_type": "stream",
     "text": [
      "Wall time: 17min 15sc.co.uk/onthisday/hi/witness/january/1/newsid_4542000/4542042.stmml72265.stm621.stmstm\n"
     ]
    }
   ],
   "source": [
    "%%time\n",
    "for index, url in enumerate(urls):\n",
    "    try:\n",
    "        # Parse the url to NewsPlease \n",
    "        article = Article(url)\n",
    "        article.download()\n",
    "        article.parse()\n",
    "\n",
    "        try:\n",
    "            # Extracts the Headlines \n",
    "            headlines.append(article.title)\n",
    "        except:\n",
    "            headlines.append(None)\n",
    "            \n",
    "        try:\n",
    "            # Extracts the Descriptions\n",
    "            descriptions.append(article.meta_description)\n",
    "        except:\n",
    "            descriptions.append(None)\n",
    "            \n",
    "        try:\n",
    "            # Extracts the Authors\n",
    "            authors.append(article.authors)\n",
    "        except:\n",
    "            authors.append(None)\n",
    "            \n",
    "        try:\n",
    "            # Extracts the published dates\n",
    "            dates.append(str(article.publish_date))\n",
    "        except:\n",
    "            dates.append(None)\n",
    "\n",
    "        try:\n",
    "            # Extracts the news articles\n",
    "            news.append(article.text)\n",
    "        except:\n",
    "            news.append(None)\n",
    "            \n",
    "        try:\n",
    "            # Extracts Keywords and Summaries\n",
    "            article.nlp()\n",
    "            keywords.append(article.keywords)\n",
    "            summaries.append(article.summary)\n",
    "        except:\n",
    "            keywords.append(None)\n",
    "            summaries.append(None)\n",
    "                    \n",
    "        try:\n",
    "            # Extracts the image urls\n",
    "            image_urls.append(article.top_image)\n",
    "        except:\n",
    "            image_urls.append(None)\n",
    "            \n",
    "    except:\n",
    "        headlines.append(None)\n",
    "        descriptions.append(None)\n",
    "        authors.append(None)\n",
    "        dates.append(None)\n",
    "        news.append(None)\n",
    "        keywords.append(None)\n",
    "        summaries.append(None)\n",
    "        image_urls.append(None)\n",
    "        \n",
    "    sys.stdout.write('\\r' + str(index) + ' : ' + str(url) + '\\r')\n",
    "    sys.stdout.flush()"
   ]
  },
  {
   "cell_type": "markdown",
   "metadata": {},
   "source": [
    "## Checking Array Length of each list to create DataFrame"
   ]
  },
  {
   "cell_type": "code",
   "execution_count": 6,
   "metadata": {},
   "outputs": [
    {
     "name": "stdout",
     "output_type": "stream",
     "text": [
      "243 243 243 243 243 243 243 243 243\n"
     ]
    }
   ],
   "source": [
    "print(len(headlines), len(descriptions), len(authors), len(dates), len(news), len(keywords), len(summaries), len(urls), len(image_urls))"
   ]
  },
  {
   "cell_type": "markdown",
   "metadata": {},
   "source": [
    "## Creating a csv file after checking array length"
   ]
  },
  {
   "cell_type": "code",
   "execution_count": 7,
   "metadata": {},
   "outputs": [],
   "source": [
    "tbl = pd.DataFrame({'Headlines' : headlines,\n",
    "                    'Descriptions' : descriptions,\n",
    "                    'Authors' : authors,\n",
    "                    'Published_Dates' : dates, \n",
    "                    'Articles' : news,\n",
    "                    'Keywords' : keywords,\n",
    "                    'Summaries' : summaries,\n",
    "                    'Source_URLs' : urls,\n",
    "                    'Image_URLs' : image_urls})\n",
    "\n",
    "tbl.to_csv('BBC.csv', index=False)"
   ]
  }
 ],
 "metadata": {
  "kernelspec": {
   "display_name": "Python 3",
   "language": "python",
   "name": "python3"
  },
  "language_info": {
   "codemirror_mode": {
    "name": "ipython",
    "version": 3
   },
   "file_extension": ".py",
   "mimetype": "text/x-python",
   "name": "python",
   "nbconvert_exporter": "python",
   "pygments_lexer": "ipython3",
   "version": "3.7.1"
  }
 },
 "nbformat": 4,
 "nbformat_minor": 2
}
