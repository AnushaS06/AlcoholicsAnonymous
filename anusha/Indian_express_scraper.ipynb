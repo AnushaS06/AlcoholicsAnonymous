{
 "cells": [
  {
   "cell_type": "code",
   "execution_count": 1,
   "metadata": {
    "collapsed": true
   },
   "outputs": [],
   "source": [
    "from requests import get\n",
    "from bs4 import BeautifulSoup \n",
    "import csv\n",
    "import pandas as pd"
   ]
  },
  {
   "cell_type": "code",
   "execution_count": 62,
   "metadata": {
    "collapsed": true
   },
   "outputs": [],
   "source": [
    "with open('indian_express_scraped_data.csv', 'w') as file:  # To delete the file content initially   \n",
    "    writer = csv.writer(file)\n",
    "    row = ['Heading', 'Publisher', 'Date and Time', 'Body']\n",
    "    writer.writerow(row)"
   ]
  },
  {
   "cell_type": "code",
   "execution_count": 38,
   "metadata": {},
   "outputs": [],
   "source": [
    "def clean(text):\n",
    "    text = text.replace('\\n', '')\n",
    "    text = text.replace('\\t', '')\n",
    "    return text"
   ]
  },
  {
   "cell_type": "code",
   "execution_count": 63,
   "metadata": {},
   "outputs": [
    {
     "name": "stdout",
     "output_type": "stream",
     "text": [
      "https://indianexpress.com/article/opinion/columns/consent-in-a-mans-world-me-too-movement-mj-akbar-sexual-harassment-5438322/\n",
      "https://indianexpress.com/article/opinion/columns/consent-in-a-mans-world-me-too-movement-mj-akbar-sexual-harassment-5438322/\n",
      "https://indianexpress.com/article/world/iran-illegally-brewed-alcohol-5384715/\n",
      "https://indianexpress.com/article/world/iran-illegally-brewed-alcohol-5384715/\n",
      "https://indianexpress.com/article/delhi/delhi-hc-pulls-up-iaf-for-confining-officer-to-psychiatric-ward-5257394/\n",
      "https://indianexpress.com/article/delhi/delhi-hc-pulls-up-iaf-for-confining-officer-to-psychiatric-ward-5257394/\n",
      "https://indianexpress.com/article/entertainment/hollywood/simon-pegg-mission-impossible-5253647/\n",
      "https://indianexpress.com/article/entertainment/hollywood/simon-pegg-mission-impossible-5253647/\n",
      "https://indianexpress.com/article/india/to-contain-suicides-bsf-plans-annual-mental-health-tests-5175675/\n",
      "https://indianexpress.com/article/india/to-contain-suicides-bsf-plans-annual-mental-health-tests-5175675/\n",
      "https://indianexpress.com/article/world/alcoholics-anonymous-founding-document-sells-for-2-4-million-5165311/\n",
      "https://indianexpress.com/article/world/alcoholics-anonymous-founding-document-sells-for-2-4-million-5165311/\n",
      "https://indianexpress.com/article/opinion/columns/indian-banks-crisis-npas-rbi-gst-epfo-pnb-bank-fraud-5138756/\n",
      "https://indianexpress.com/article/opinion/columns/indian-banks-crisis-npas-rbi-gst-epfo-pnb-bank-fraud-5138756/\n",
      "https://indianexpress.com/article/cities/delhi/at-lajpat-nagar-school-an-aa-meeting-only-for-women-4975928/\n",
      "https://indianexpress.com/article/cities/delhi/at-lajpat-nagar-school-an-aa-meeting-only-for-women-4975928/\n",
      "https://indianexpress.com/article/world/clandestine-sex-industry-booms-in-rohingya-refugee-camps-4903791/\n",
      "https://indianexpress.com/article/world/clandestine-sex-industry-booms-in-rohingya-refugee-camps-4903791/\n",
      "https://indianexpress.com/article/cities/mumbai/book-on-psychological-spiritual-origins-of-substance-addiction-4829091/\n",
      "https://indianexpress.com/article/cities/mumbai/book-on-psychological-spiritual-origins-of-substance-addiction-4829091/\n",
      "https://indianexpress.com/article/lifestyle/books/the-heart-goes-last-4824547/\n",
      "https://indianexpress.com/article/lifestyle/books/the-heart-goes-last-4824547/\n",
      "https://indianexpress.com/article/entertainment/television/shweta-basu-prasad-digital-playlist-netflix-love-is-the-perfect-binge-watch-series-for-the-weekend-4781675/\n",
      "https://indianexpress.com/article/entertainment/television/shweta-basu-prasad-digital-playlist-netflix-love-is-the-perfect-binge-watch-series-for-the-weekend-4781675/\n",
      "https://indianexpress.com/article/lifestyle/books/sudha-murty-infosys-three-thousand-stitches-4765568/\n",
      "https://indianexpress.com/article/lifestyle/books/sudha-murty-infosys-three-thousand-stitches-4765568/\n",
      "https://indianexpress.com/article/cities/mumbai/maharashtra-all-women-crew-at-matunga-station-safety-and-infrastructure-issues-emerge-4725230/\n",
      "https://indianexpress.com/article/cities/mumbai/maharashtra-all-women-crew-at-matunga-station-safety-and-infrastructure-issues-emerge-4725230/\n",
      "https://indianexpress.com/article/lifestyle/feelings/how-i-escaped-an-x-rated-life-4720208/\n",
      "https://indianexpress.com/article/lifestyle/feelings/how-i-escaped-an-x-rated-life-4720208/\n",
      "https://indianexpress.com/article/lifestyle/food-wine/highway-liquor-ban-supreme-court-jugaad-of-bars-and-pubs-the-real-picture-4602869/\n",
      "https://indianexpress.com/article/lifestyle/food-wine/highway-liquor-ban-supreme-court-jugaad-of-bars-and-pubs-the-real-picture-4602869/\n",
      "https://indianexpress.com/article/world/world-news/stanford-swimmer-brock-turner-case-judge-to-make-another-sex-crime-ruling-2965022/\n",
      "https://indianexpress.com/article/world/world-news/stanford-swimmer-brock-turner-case-judge-to-make-another-sex-crime-ruling-2965022/\n",
      "https://indianexpress.com/article/cities/delhi/delhi-police-diary-for-cops-struggling-with-alcoholism-a-special-class-on-saturdays-2950681/\n",
      "https://indianexpress.com/article/cities/delhi/delhi-police-diary-for-cops-struggling-with-alcoholism-a-special-class-on-saturdays-2950681/\n",
      "https://indianexpress.com/article/cities/mumbai/church-with-futuristic-architecture-dates-back-to-the-portuguese-era-2904306/\n",
      "https://indianexpress.com/article/cities/mumbai/church-with-futuristic-architecture-dates-back-to-the-portuguese-era-2904306/\n",
      "https://indianexpress.com/article/entertainment/music/demi-lovato-is-bettering-herself-post-break-up-2845399/\n",
      "https://indianexpress.com/article/entertainment/music/demi-lovato-is-bettering-herself-post-break-up-2845399/\n",
      "40\n"
     ]
    }
   ],
   "source": [
    "count = 0\n",
    "rows = []\n",
    "url = 'https://indianexpress.com/?s=alcoholics+anonymous#'\n",
    "response = get(url)\n",
    "content = BeautifulSoup(response.text, 'html.parser')\n",
    "containers = content.find_all('div', class_=\"l-grid l-grid--y50\")\n",
    "link = containers[0].find_all('a')\n",
    "\n",
    "for i in link:\n",
    "    count += 1\n",
    "    print(i['href'])\n",
    "    new_response = get(i['href'])\n",
    "    new_content = BeautifulSoup(new_response.text, 'html.parser')\n",
    "    heading = new_content.find('h1', class_=\"m-story-header__title\").text \n",
    "    body = clean(new_content.find('h2', class_=\"m-story-header__intro\").text)\n",
    "    time = new_content.find_all('div', class_=\"m-story-meta__credit\")\n",
    "    time = time[0].find_all('span')\n",
    "    try:\n",
    "        source = time[0].find('a').text \n",
    "    except:\n",
    "        source = time[0].text\n",
    "    time = time[1].text.split(':')[-1] \n",
    "    new_body = new_content.find('div', class_=\"o-story-content__main a-wysiwyg\")\n",
    "    new_body = new_body.find_all('p')\n",
    "    for para in new_body:\n",
    "        body += clean(para.text) \n",
    "    rows.append(heading)\n",
    "    rows.append(source)\n",
    "    rows.append(time)\n",
    "    rows.append(body)\n",
    "    with open('indian_express_scraped_data.csv', 'a') as file:\n",
    "        writer = csv.writer(file)\n",
    "        writer.writerow(rows)\n",
    "        rows = []\n",
    "        body = ''\n",
    "        file.close() \n",
    "\n",
    "print(count)"
   ]
  },
  {
   "cell_type": "code",
   "execution_count": null,
   "metadata": {},
   "outputs": [],
   "source": []
  }
 ],
 "metadata": {
  "kernelspec": {
   "display_name": "Python 3",
   "language": "python",
   "name": "python3"
  },
  "language_info": {
   "codemirror_mode": {
    "name": "ipython",
    "version": 3
   },
   "file_extension": ".py",
   "mimetype": "text/x-python",
   "name": "python",
   "nbconvert_exporter": "python",
   "pygments_lexer": "ipython3",
   "version": "3.6.3"
  }
 },
 "nbformat": 4,
 "nbformat_minor": 2
}
