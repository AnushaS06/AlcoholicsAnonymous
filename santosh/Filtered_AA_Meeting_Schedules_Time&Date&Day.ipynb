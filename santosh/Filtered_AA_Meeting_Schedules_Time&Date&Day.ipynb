{
 "cells": [
  {
   "cell_type": "code",
   "execution_count": 1,
   "metadata": {},
   "outputs": [],
   "source": [
    "import itertools # iterators for efficient looping\n",
    "import pandas as pd # primary data structure library\n",
    "import re # match or find other strings or sets of strings"
   ]
  },
  {
   "cell_type": "code",
   "execution_count": 2,
   "metadata": {},
   "outputs": [
    {
     "data": {
      "text/html": [
       "<div>\n",
       "<style scoped>\n",
       "    .dataframe tbody tr th:only-of-type {\n",
       "        vertical-align: middle;\n",
       "    }\n",
       "\n",
       "    .dataframe tbody tr th {\n",
       "        vertical-align: top;\n",
       "    }\n",
       "\n",
       "    .dataframe thead th {\n",
       "        text-align: right;\n",
       "    }\n",
       "</style>\n",
       "<table border=\"1\" class=\"dataframe\">\n",
       "  <thead>\n",
       "    <tr style=\"text-align: right;\">\n",
       "      <th></th>\n",
       "      <th>Headline</th>\n",
       "      <th>Authors</th>\n",
       "      <th>Main_Image</th>\n",
       "      <th>Published_Date</th>\n",
       "      <th>Meetings</th>\n",
       "      <th>News</th>\n",
       "      <th>Source_urls</th>\n",
       "    </tr>\n",
       "  </thead>\n",
       "  <tbody>\n",
       "    <tr>\n",
       "      <th>0</th>\n",
       "      <td>Engagements for Sunday, March 31</td>\n",
       "      <td>['To Run A.M. Until P.M.']</td>\n",
       "      <td>https://www.thehindu.com/static/theme/default/...</td>\n",
       "      <td>2019-03-31 01:07:44</td>\n",
       "      <td>Meetings, Assemption School, St. Teresa Church...</td>\n",
       "      <td>RELIGION\\r\\nRamayanam: Mathivannan, Asthika Sa...</td>\n",
       "      <td>https://www.thehindu.com/news/cities/chennai/e...</td>\n",
       "    </tr>\n",
       "    <tr>\n",
       "      <th>1</th>\n",
       "      <td>Chennai Today</td>\n",
       "      <td>[]</td>\n",
       "      <td>https://www.thehindu.com/static/theme/default/...</td>\n",
       "      <td>2019-03-30 00:00:00</td>\n",
       "      <td>Meetings, Community Service Centre, Balfour Rd...</td>\n",
       "      <td>Religion\\r\\nKamba Ramayanam: Mathivannan, Asth...</td>\n",
       "      <td>https://www.thehindu.com/todays-paper/tp-natio...</td>\n",
       "    </tr>\n",
       "    <tr>\n",
       "      <th>2</th>\n",
       "      <td>Madurai Today</td>\n",
       "      <td>[]</td>\n",
       "      <td>https://www.thehindu.com/static/theme/default/...</td>\n",
       "      <td>2019-03-30 00:00:00</td>\n",
       "      <td>Meeting; Ahana Hospital, Anna Bus Stand; Quali...</td>\n",
       "      <td>RELIGION\\r\\nMeenakshi Sundareswarar Temple: Th...</td>\n",
       "      <td>https://www.thehindu.com/todays-paper/tp-natio...</td>\n",
       "    </tr>\n",
       "    <tr>\n",
       "      <th>3</th>\n",
       "      <td>engagements</td>\n",
       "      <td>[]</td>\n",
       "      <td>https://www.thehindu.com/static/theme/default/...</td>\n",
       "      <td>2019-03-30 00:00:00</td>\n",
       "      <td>TIRUNELVELI\\r\\nAlcoholics Anonymous and Al-Ano...</td>\n",
       "      <td>TIRUNELVELI\\r\\nAlcoholics Anonymous and Al-Ano...</td>\n",
       "      <td>https://www.thehindu.com/todays-paper/tp-natio...</td>\n",
       "    </tr>\n",
       "    <tr>\n",
       "      <th>4</th>\n",
       "      <td>CHENNAI TODAY</td>\n",
       "      <td>['To Run A.M. Until P.M.']</td>\n",
       "      <td>https://www.thehindu.com/static/theme/default/...</td>\n",
       "      <td>2019-03-29 01:44:55</td>\n",
       "      <td>Meetings, Kevin School, Royapuram; Singaram Pi...</td>\n",
       "      <td>RELIGION\\r\\nRamayanam: Harikatha by Kalyanapur...</td>\n",
       "      <td>https://www.thehindu.com/news/cities/chennai/c...</td>\n",
       "    </tr>\n",
       "  </tbody>\n",
       "</table>\n",
       "</div>"
      ],
      "text/plain": [
       "                           Headline                     Authors  \\\n",
       "0  Engagements for Sunday, March 31  ['To Run A.M. Until P.M.']   \n",
       "1                     Chennai Today                          []   \n",
       "2                     Madurai Today                          []   \n",
       "3                       engagements                          []   \n",
       "4                     CHENNAI TODAY  ['To Run A.M. Until P.M.']   \n",
       "\n",
       "                                          Main_Image       Published_Date  \\\n",
       "0  https://www.thehindu.com/static/theme/default/...  2019-03-31 01:07:44   \n",
       "1  https://www.thehindu.com/static/theme/default/...  2019-03-30 00:00:00   \n",
       "2  https://www.thehindu.com/static/theme/default/...  2019-03-30 00:00:00   \n",
       "3  https://www.thehindu.com/static/theme/default/...  2019-03-30 00:00:00   \n",
       "4  https://www.thehindu.com/static/theme/default/...  2019-03-29 01:44:55   \n",
       "\n",
       "                                            Meetings  \\\n",
       "0  Meetings, Assemption School, St. Teresa Church...   \n",
       "1  Meetings, Community Service Centre, Balfour Rd...   \n",
       "2  Meeting; Ahana Hospital, Anna Bus Stand; Quali...   \n",
       "3  TIRUNELVELI\\r\\nAlcoholics Anonymous and Al-Ano...   \n",
       "4  Meetings, Kevin School, Royapuram; Singaram Pi...   \n",
       "\n",
       "                                                News  \\\n",
       "0  RELIGION\\r\\nRamayanam: Mathivannan, Asthika Sa...   \n",
       "1  Religion\\r\\nKamba Ramayanam: Mathivannan, Asth...   \n",
       "2  RELIGION\\r\\nMeenakshi Sundareswarar Temple: Th...   \n",
       "3  TIRUNELVELI\\r\\nAlcoholics Anonymous and Al-Ano...   \n",
       "4  RELIGION\\r\\nRamayanam: Harikatha by Kalyanapur...   \n",
       "\n",
       "                                         Source_urls  \n",
       "0  https://www.thehindu.com/news/cities/chennai/e...  \n",
       "1  https://www.thehindu.com/todays-paper/tp-natio...  \n",
       "2  https://www.thehindu.com/todays-paper/tp-natio...  \n",
       "3  https://www.thehindu.com/todays-paper/tp-natio...  \n",
       "4  https://www.thehindu.com/news/cities/chennai/c...  "
      ]
     },
     "execution_count": 2,
     "metadata": {},
     "output_type": "execute_result"
    }
   ],
   "source": [
    "df = pd.read_csv('THE_HINDU_AA_NEWS_DETAILS.csv') # Data read into a pandas dataframe\n",
    "df.head()"
   ]
  },
  {
   "cell_type": "code",
   "execution_count": 3,
   "metadata": {},
   "outputs": [
    {
     "data": {
      "text/plain": [
       "(11796, 7)"
      ]
     },
     "execution_count": 3,
     "metadata": {},
     "output_type": "execute_result"
    }
   ],
   "source": [
    "# size of dataframe (rows, columns)\n",
    "df.shape"
   ]
  },
  {
   "cell_type": "code",
   "execution_count": 4,
   "metadata": {},
   "outputs": [
    {
     "data": {
      "text/plain": [
       "0    Meetings, Assemption School, St. Teresa Church...\n",
       "1    Meetings, Community Service Centre, Balfour Rd...\n",
       "2    Meeting; Ahana Hospital, Anna Bus Stand; Quali...\n",
       "3    TIRUNELVELI\\r\\nAlcoholics Anonymous and Al-Ano...\n",
       "4    Meetings, Kevin School, Royapuram; Singaram Pi...\n",
       "Name: Meetings, dtype: object"
      ]
     },
     "execution_count": 4,
     "metadata": {},
     "output_type": "execute_result"
    }
   ],
   "source": [
    "df['Meetings'].head() # top 5 rows of the dataset "
   ]
  },
  {
   "cell_type": "code",
   "execution_count": 5,
   "metadata": {},
   "outputs": [
    {
     "data": {
      "text/plain": [
       "11796"
      ]
     },
     "execution_count": 5,
     "metadata": {},
     "output_type": "execute_result"
    }
   ],
   "source": [
    "len(df['Meetings']) # lenght of the dataframe"
   ]
  },
  {
   "cell_type": "code",
   "execution_count": 6,
   "metadata": {},
   "outputs": [
    {
     "data": {
      "text/plain": [
       "10590"
      ]
     },
     "execution_count": 6,
     "metadata": {},
     "output_type": "execute_result"
    }
   ],
   "source": [
    "meet_df = df[df['News'].str.contains('Meeti', case=False, na=False)].dropna() # filtering Meetings on the list of News  \n",
    "len(meet_df)"
   ]
  },
  {
   "cell_type": "code",
   "execution_count": 7,
   "metadata": {},
   "outputs": [],
   "source": [
    "# remove a few unnecessary columns\n",
    "# in pandas axis=0 represents rows (default) and axis=1 represents columns.\n",
    "meet_df.drop(['Authors', 'Main_Image', 'News', 'Source_urls'], axis=1, inplace=True) \n",
    "meet_df.to_csv('meetings.csv', index=False)"
   ]
  },
  {
   "cell_type": "code",
   "execution_count": 8,
   "metadata": {},
   "outputs": [
    {
     "data": {
      "text/html": [
       "<div>\n",
       "<style scoped>\n",
       "    .dataframe tbody tr th:only-of-type {\n",
       "        vertical-align: middle;\n",
       "    }\n",
       "\n",
       "    .dataframe tbody tr th {\n",
       "        vertical-align: top;\n",
       "    }\n",
       "\n",
       "    .dataframe thead th {\n",
       "        text-align: right;\n",
       "    }\n",
       "</style>\n",
       "<table border=\"1\" class=\"dataframe\">\n",
       "  <thead>\n",
       "    <tr style=\"text-align: right;\">\n",
       "      <th></th>\n",
       "      <th>Headline</th>\n",
       "      <th>Published_Date</th>\n",
       "      <th>Meetings</th>\n",
       "    </tr>\n",
       "  </thead>\n",
       "  <tbody>\n",
       "    <tr>\n",
       "      <th>0</th>\n",
       "      <td>Engagements for Sunday, March 31</td>\n",
       "      <td>Sunday, March 31, 2019</td>\n",
       "      <td>Meetings, Assemption School, St. Teresa Church...</td>\n",
       "    </tr>\n",
       "    <tr>\n",
       "      <th>1</th>\n",
       "      <td>Chennai Today</td>\n",
       "      <td>Saturday, March 30, 2019</td>\n",
       "      <td>Meetings, Community Service Centre, Balfour Rd...</td>\n",
       "    </tr>\n",
       "    <tr>\n",
       "      <th>2</th>\n",
       "      <td>Madurai Today</td>\n",
       "      <td>Saturday, March 30, 2019</td>\n",
       "      <td>Meeting; Ahana Hospital, Anna Bus Stand; Quali...</td>\n",
       "    </tr>\n",
       "    <tr>\n",
       "      <th>3</th>\n",
       "      <td>engagements</td>\n",
       "      <td>Saturday, March 30, 2019</td>\n",
       "      <td>TIRUNELVELI\\r\\r\\nAlcoholics Anonymous and Al-A...</td>\n",
       "    </tr>\n",
       "    <tr>\n",
       "      <th>4</th>\n",
       "      <td>CHENNAI TODAY</td>\n",
       "      <td>Friday, March 29, 2019</td>\n",
       "      <td>Meetings, Kevin School, Royapuram; Singaram Pi...</td>\n",
       "    </tr>\n",
       "  </tbody>\n",
       "</table>\n",
       "</div>"
      ],
      "text/plain": [
       "                           Headline            Published_Date  \\\n",
       "0  Engagements for Sunday, March 31    Sunday, March 31, 2019   \n",
       "1                     Chennai Today  Saturday, March 30, 2019   \n",
       "2                     Madurai Today  Saturday, March 30, 2019   \n",
       "3                       engagements  Saturday, March 30, 2019   \n",
       "4                     CHENNAI TODAY    Friday, March 29, 2019   \n",
       "\n",
       "                                            Meetings  \n",
       "0  Meetings, Assemption School, St. Teresa Church...  \n",
       "1  Meetings, Community Service Centre, Balfour Rd...  \n",
       "2  Meeting; Ahana Hospital, Anna Bus Stand; Quali...  \n",
       "3  TIRUNELVELI\\r\\r\\nAlcoholics Anonymous and Al-A...  \n",
       "4  Meetings, Kevin School, Royapuram; Singaram Pi...  "
      ]
     },
     "execution_count": 8,
     "metadata": {},
     "output_type": "execute_result"
    }
   ],
   "source": [
    "df = pd.read_csv('meetings.csv')\n",
    "df.head()"
   ]
  },
  {
   "cell_type": "code",
   "execution_count": 9,
   "metadata": {},
   "outputs": [
    {
     "data": {
      "text/plain": [
       "0    [10.00 a.m., 11 a.m., 11.30 a.m., 6 p.m., 7 pm.]\n",
       "1                                            [7 p.m.]\n",
       "2                                            [7 p.m.]\n",
       "3       [7 p.m., 5 p.m., 10.30 a.m., 5 p.m., 10 a.m.]\n",
       "4                                            [7 p.m.]\n",
       "Name: time, dtype: object"
      ]
     },
     "execution_count": 9,
     "metadata": {},
     "output_type": "execute_result"
    }
   ],
   "source": [
    "# Filtering out the times from the Meetings Schedule\n",
    "meets = []\n",
    "for item in df['Meetings']:\n",
    "    a = re.findall(r'\\s(\\d{2}\\.\\d{2}\\s?(?:am.|pm.|a.m.|p.m.))|\\s(\\d{1}\\s?(?:am.|pm.|a.m.|p.m.))|\\s(\\d{2}\\s?(?:am.|pm.|a.m.|p.m.))|\\s(\\d{1}\\.\\d{2}\\s?(?:am.|pm.|a.m.|p.m.))|\\s(\\d{2}\\.\\d{1}\\s?(?:am.|pm.|a.m.|p.m.))', item)\n",
    "    str_list = list(itertools.chain(*a))\n",
    "    meets.append(list(filter(None, str_list)))\n",
    "    \n",
    "df['time'] = meets\n",
    "df['time'].head()"
   ]
  },
  {
   "cell_type": "code",
   "execution_count": 10,
   "metadata": {},
   "outputs": [
    {
     "data": {
      "text/plain": [
       "0      Sunday\n",
       "1    Saturday\n",
       "2    Saturday\n",
       "3    Saturday\n",
       "4      Friday\n",
       "Name: day, dtype: object"
      ]
     },
     "execution_count": 10,
     "metadata": {},
     "output_type": "execute_result"
    }
   ],
   "source": [
    "# Extract the Day of meetings held\n",
    "day = [item.split()[0].replace(',', '') for item in df['Published_Date']]\n",
    "df['day'] = day\n",
    "df['day'].head()"
   ]
  },
  {
   "cell_type": "code",
   "execution_count": 11,
   "metadata": {},
   "outputs": [
    {
     "data": {
      "text/plain": [
       "0   2019-03-31\n",
       "1   2019-03-30\n",
       "2   2019-03-30\n",
       "3   2019-03-30\n",
       "4   2019-03-29\n",
       "Name: date, dtype: datetime64[ns]"
      ]
     },
     "execution_count": 11,
     "metadata": {},
     "output_type": "execute_result"
    }
   ],
   "source": [
    "# Filtering the Date of meetings held\n",
    "df['date'] = pd.to_datetime(df['Published_Date'])\n",
    "df['date'].head()"
   ]
  },
  {
   "cell_type": "code",
   "execution_count": 12,
   "metadata": {},
   "outputs": [
    {
     "data": {
      "text/html": [
       "<div>\n",
       "<style scoped>\n",
       "    .dataframe tbody tr th:only-of-type {\n",
       "        vertical-align: middle;\n",
       "    }\n",
       "\n",
       "    .dataframe tbody tr th {\n",
       "        vertical-align: top;\n",
       "    }\n",
       "\n",
       "    .dataframe thead th {\n",
       "        text-align: right;\n",
       "    }\n",
       "</style>\n",
       "<table border=\"1\" class=\"dataframe\">\n",
       "  <thead>\n",
       "    <tr style=\"text-align: right;\">\n",
       "      <th></th>\n",
       "      <th>Headline</th>\n",
       "      <th>Day</th>\n",
       "      <th>Date</th>\n",
       "      <th>Timings</th>\n",
       "    </tr>\n",
       "  </thead>\n",
       "  <tbody>\n",
       "    <tr>\n",
       "      <th>0</th>\n",
       "      <td>Engagements for Sunday, March 31</td>\n",
       "      <td>Sunday</td>\n",
       "      <td>2019-03-31</td>\n",
       "      <td>[10.00 a.m., 11 a.m., 11.30 a.m., 6 p.m., 7 pm.]</td>\n",
       "    </tr>\n",
       "    <tr>\n",
       "      <th>1</th>\n",
       "      <td>Chennai Today</td>\n",
       "      <td>Saturday</td>\n",
       "      <td>2019-03-30</td>\n",
       "      <td>[7 p.m.]</td>\n",
       "    </tr>\n",
       "    <tr>\n",
       "      <th>2</th>\n",
       "      <td>Madurai Today</td>\n",
       "      <td>Saturday</td>\n",
       "      <td>2019-03-30</td>\n",
       "      <td>[7 p.m.]</td>\n",
       "    </tr>\n",
       "    <tr>\n",
       "      <th>3</th>\n",
       "      <td>engagements</td>\n",
       "      <td>Saturday</td>\n",
       "      <td>2019-03-30</td>\n",
       "      <td>[7 p.m., 5 p.m., 10.30 a.m., 5 p.m., 10 a.m.]</td>\n",
       "    </tr>\n",
       "    <tr>\n",
       "      <th>4</th>\n",
       "      <td>CHENNAI TODAY</td>\n",
       "      <td>Friday</td>\n",
       "      <td>2019-03-29</td>\n",
       "      <td>[7 p.m.]</td>\n",
       "    </tr>\n",
       "  </tbody>\n",
       "</table>\n",
       "</div>"
      ],
      "text/plain": [
       "                           Headline       Day       Date  \\\n",
       "0  Engagements for Sunday, March 31    Sunday 2019-03-31   \n",
       "1                     Chennai Today  Saturday 2019-03-30   \n",
       "2                     Madurai Today  Saturday 2019-03-30   \n",
       "3                       engagements  Saturday 2019-03-30   \n",
       "4                     CHENNAI TODAY    Friday 2019-03-29   \n",
       "\n",
       "                                            Timings  \n",
       "0  [10.00 a.m., 11 a.m., 11.30 a.m., 6 p.m., 7 pm.]  \n",
       "1                                          [7 p.m.]  \n",
       "2                                          [7 p.m.]  \n",
       "3     [7 p.m., 5 p.m., 10.30 a.m., 5 p.m., 10 a.m.]  \n",
       "4                                          [7 p.m.]  "
      ]
     },
     "execution_count": 12,
     "metadata": {},
     "output_type": "execute_result"
    }
   ],
   "source": [
    "# Creating new DataFrame from the Filtered_AA_Meeting_Schedules\n",
    "df = pd.DataFrame({'Headline' : df['Headline'],\n",
    "                  'Day' : df['day'],\n",
    "                  'Date' : df['date'],\n",
    "                  'Timings' : df['time']})\n",
    "df.head()"
   ]
  },
  {
   "cell_type": "code",
   "execution_count": 13,
   "metadata": {},
   "outputs": [],
   "source": [
    "df.to_csv('Meeting_Schedule.csv', index=True)"
   ]
  },
  {
   "cell_type": "code",
   "execution_count": null,
   "metadata": {},
   "outputs": [],
   "source": []
  }
 ],
 "metadata": {
  "kernelspec": {
   "display_name": "Python 3",
   "language": "python",
   "name": "python3"
  },
  "language_info": {
   "codemirror_mode": {
    "name": "ipython",
    "version": 3
   },
   "file_extension": ".py",
   "mimetype": "text/x-python",
   "name": "python",
   "nbconvert_exporter": "python",
   "pygments_lexer": "ipython3",
   "version": "3.7.1"
  }
 },
 "nbformat": 4,
 "nbformat_minor": 2
}
